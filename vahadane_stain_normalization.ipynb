{
 "cells": [
  {
   "cell_type": "code",
   "execution_count": 1,
   "id": "4871a29a",
   "metadata": {},
   "outputs": [],
   "source": [
    "from __future__ import division\n",
    "\n",
    "import stain_utils as utils\n",
    "import stainNorm_Reinhard\n",
    "import stainNorm_Macenko\n",
    "import stainNorm_Vahadane\n",
    "%load_ext autoreload\n",
    "%autoreload 2\n",
    "\n",
    "import numpy as np\n",
    "import matplotlib.pyplot as plt\n",
    "%matplotlib inline"
   ]
  },
  {
   "cell_type": "code",
   "execution_count": 2,
   "id": "bd496b66",
   "metadata": {},
   "outputs": [],
   "source": [
    "from glob import glob\n",
    "from PIL import Image as im\n",
    "\n",
    "image_list1 = glob('/Users/JohnC/OneDrive/Desktop/histopathology-dataset/train/LUAD/*') #Change \"LUAD\" with other types"
   ]
  },
  {
   "cell_type": "code",
   "execution_count": 3,
   "id": "306557cf",
   "metadata": {},
   "outputs": [],
   "source": [
    "i1=utils.read_image('/Users/JohnC/OneDrive/Desktop/histopathology-dataset/train/Reference5.jpg')"
   ]
  },
  {
   "cell_type": "code",
   "execution_count": null,
   "id": "60d1bf06",
   "metadata": {},
   "outputs": [],
   "source": [
    "for image in image_list1:\n",
    "    i2=utils.read_image(image)\n",
    "    n=stainNorm_Vahadane.Normalizer()\n",
    "    n.fit(i1)\n",
    "    x=n.transform(i2)\n",
    "    img = im.fromarray(x, 'RGB')\n",
    "    img.save(image)"
   ]
  },
  {
   "cell_type": "code",
   "execution_count": null,
   "id": "8bc8edb7",
   "metadata": {},
   "outputs": [],
   "source": []
  }
 ],
 "metadata": {
  "kernelspec": {
   "display_name": "Python 3 (ipykernel)",
   "language": "python",
   "name": "python3"
  },
  "language_info": {
   "codemirror_mode": {
    "name": "ipython",
    "version": 3
   },
   "file_extension": ".py",
   "mimetype": "text/x-python",
   "name": "python",
   "nbconvert_exporter": "python",
   "pygments_lexer": "ipython3",
   "version": "3.11.4"
  }
 },
 "nbformat": 4,
 "nbformat_minor": 5
}
